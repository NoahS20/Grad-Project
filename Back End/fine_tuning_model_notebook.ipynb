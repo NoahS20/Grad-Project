{
  "cells": [
    {
      "cell_type": "code",
      "source": [
        "from google.colab import drive\n",
        "drive.mount('/content/drive')"
      ],
      "metadata": {
        "colab": {
          "base_uri": "https://localhost:8080/"
        },
        "id": "twSULbuOPx0q",
        "outputId": "da93e3c5-12ff-4f71-e165-c99639dae01b"
      },
      "execution_count": 9,
      "outputs": [
        {
          "output_type": "stream",
          "name": "stdout",
          "text": [
            "Drive already mounted at /content/drive; to attempt to forcibly remount, call drive.mount(\"/content/drive\", force_remount=True).\n"
          ]
        }
      ]
    },
    {
      "cell_type": "code",
      "source": [
        "!pip install git+https://github.com/huggingface/transformers"
      ],
      "metadata": {
        "colab": {
          "base_uri": "https://localhost:8080/"
        },
        "id": "XNdwoZJTrTLD",
        "outputId": "db5b0cb2-f8d5-4204-ce8b-a96e2db4d73b"
      },
      "execution_count": null,
      "outputs": [
        {
          "output_type": "stream",
          "name": "stdout",
          "text": [
            "Collecting git+https://github.com/huggingface/transformers\n",
            "  Cloning https://github.com/huggingface/transformers to /tmp/pip-req-build-opd_rwfh\n",
            "  Running command git clone --filter=blob:none --quiet https://github.com/huggingface/transformers /tmp/pip-req-build-opd_rwfh\n",
            "  Resolved https://github.com/huggingface/transformers to commit e4682de6358f9b9cefb73683588e588e4d9154f7\n",
            "  Installing build dependencies ... \u001b[?25l\u001b[?25hdone\n",
            "  Getting requirements to build wheel ... \u001b[?25l\u001b[?25hdone\n",
            "  Preparing metadata (pyproject.toml) ... \u001b[?25l\u001b[?25hdone\n",
            "Requirement already satisfied: filelock in /usr/local/lib/python3.10/dist-packages (from transformers==4.43.0.dev0) (3.15.4)\n",
            "Requirement already satisfied: huggingface-hub<1.0,>=0.23.2 in /usr/local/lib/python3.10/dist-packages (from transformers==4.43.0.dev0) (0.23.4)\n",
            "Requirement already satisfied: numpy<2.0,>=1.17 in /usr/local/lib/python3.10/dist-packages (from transformers==4.43.0.dev0) (1.25.2)\n",
            "Requirement already satisfied: packaging>=20.0 in /usr/local/lib/python3.10/dist-packages (from transformers==4.43.0.dev0) (24.1)\n",
            "Requirement already satisfied: pyyaml>=5.1 in /usr/local/lib/python3.10/dist-packages (from transformers==4.43.0.dev0) (6.0.1)\n",
            "Requirement already satisfied: regex!=2019.12.17 in /usr/local/lib/python3.10/dist-packages (from transformers==4.43.0.dev0) (2024.5.15)\n",
            "Requirement already satisfied: requests in /usr/local/lib/python3.10/dist-packages (from transformers==4.43.0.dev0) (2.31.0)\n",
            "Requirement already satisfied: tokenizers<0.20,>=0.19 in /usr/local/lib/python3.10/dist-packages (from transformers==4.43.0.dev0) (0.19.1)\n",
            "Requirement already satisfied: safetensors>=0.4.1 in /usr/local/lib/python3.10/dist-packages (from transformers==4.43.0.dev0) (0.4.3)\n",
            "Requirement already satisfied: tqdm>=4.27 in /usr/local/lib/python3.10/dist-packages (from transformers==4.43.0.dev0) (4.66.4)\n",
            "Requirement already satisfied: fsspec>=2023.5.0 in /usr/local/lib/python3.10/dist-packages (from huggingface-hub<1.0,>=0.23.2->transformers==4.43.0.dev0) (2023.6.0)\n",
            "Requirement already satisfied: typing-extensions>=3.7.4.3 in /usr/local/lib/python3.10/dist-packages (from huggingface-hub<1.0,>=0.23.2->transformers==4.43.0.dev0) (4.12.2)\n",
            "Requirement already satisfied: charset-normalizer<4,>=2 in /usr/local/lib/python3.10/dist-packages (from requests->transformers==4.43.0.dev0) (3.3.2)\n",
            "Requirement already satisfied: idna<4,>=2.5 in /usr/local/lib/python3.10/dist-packages (from requests->transformers==4.43.0.dev0) (3.7)\n",
            "Requirement already satisfied: urllib3<3,>=1.21.1 in /usr/local/lib/python3.10/dist-packages (from requests->transformers==4.43.0.dev0) (2.0.7)\n",
            "Requirement already satisfied: certifi>=2017.4.17 in /usr/local/lib/python3.10/dist-packages (from requests->transformers==4.43.0.dev0) (2024.7.4)\n"
          ]
        }
      ]
    },
    {
      "cell_type": "code",
      "execution_count": 10,
      "metadata": {
        "id": "nc97cjkxq0nh"
      },
      "outputs": [],
      "source": [
        "import json\n",
        "import pandas as pd\n",
        "from transformers import LlamaTokenizer, LlamaForSequenceClassification, Trainer, TrainingArguments\n",
        "from torch.utils.data import Dataset\n",
        "import torch\n",
        "import torch.nn.functional as F\n",
        "import random"
      ]
    },
    {
      "cell_type": "code",
      "source": [
        "device = torch.device(\"cuda\" if torch.cuda.is_available() else \"cpu\")"
      ],
      "metadata": {
        "id": "2k7qbWB-x4LH"
      },
      "execution_count": 11,
      "outputs": []
    },
    {
      "cell_type": "code",
      "execution_count": 12,
      "metadata": {
        "id": "9VBPjPjyq0ni"
      },
      "outputs": [],
      "source": [
        "class TextPairDataset(Dataset):\n",
        "    def __init__(self, jsonl_file):\n",
        "        self.data = []\n",
        "        with open(jsonl_file, 'r') as f:\n",
        "            for line in f:\n",
        "                self.data.append(json.loads(line))\n",
        "        self.tokenizer = LlamaTokenizer.from_pretrained('llama3-base')\n",
        "\n",
        "    def __len__(self):\n",
        "        return len(self.data)\n",
        "\n",
        "    def __getitem__(self, idx):\n",
        "        text1 = self.data[idx]['text1']\n",
        "        text2 = self.data[idx]['text2']\n",
        "        label = self.data[idx]['label']\n",
        "\n",
        "        inputs1 = self.tokenizer(text1, return_tensors='pt', padding='max_length', truncation=True, max_length=128)\n",
        "        inputs2 = self.tokenizer(text2, return_tensors='pt', padding='max_length', truncation=True, max_length=128)\n",
        "\n",
        "        input_ids = torch.cat([inputs1['input_ids'], inputs2['input_ids']], dim=1)\n",
        "        attention_mask = torch.cat([inputs1['attention_mask'], inputs2['attention_mask']], dim=1)\n",
        "\n",
        "        return {'input_ids': input_ids.flatten(), 'attention_mask': attention_mask.flatten(), 'labels': torch.tensor(label)}\n"
      ]
    },
    {
      "cell_type": "code",
      "execution_count": 13,
      "metadata": {
        "id": "ziPy_AN0q0ni"
      },
      "outputs": [],
      "source": [
        "def compute_similarity_and_reasoning(model, tokenizer, prompt, text1, text2):\n",
        "    prompt_text1 = f\"{prompt} {text1}\"\n",
        "    prompt_text2 = f\"{prompt} {text2}\"\n",
        "\n",
        "    inputs1 = tokenizer(prompt_text1, return_tensors='pt', padding='max_length', truncation=True, max_length=128).to(device)\n",
        "    inputs2 = tokenizer(prompt_text2, return_tensors='pt', padding='max_length', truncation=True, max_length=128).to(device)\n",
        "\n",
        "    with torch.no_grad():\n",
        "        outputs1 = model(**inputs1).logits\n",
        "        outputs2 = model(**inputs2).logits\n",
        "\n",
        "    # Calculate similarity score using cosine similarity\n",
        "    similarity_score = F.cosine_similarity(outputs1, outputs2).item()\n",
        "\n",
        "    # Generate reasoning based on the logits\n",
        "    reasoning = \"The model considers the texts to be \"\n",
        "    if similarity_score > 0.7:\n",
        "        reasoning += \"AI generated\"\n",
        "    elif similarity_score < 0.7 and similarity_score > 0.49:\n",
        "        reasoning += \"Inconclusive\"\n",
        "    else:\n",
        "        reasoning += \"Human generated.\"\n",
        "\n",
        "    return similarity_score, reasoning"
      ]
    },
    {
      "cell_type": "code",
      "execution_count": 21,
      "metadata": {
        "id": "bhnQ1CRCq0nj"
      },
      "outputs": [],
      "source": [
        "def main():\n",
        "    # Load dataset\n",
        "    train_dataset = TextPairDataset('/content/drive/MyDrive/Colab Notebooks/Datasets/train-qar.jsonl')\n",
        "    eval_dataset = TextPairDataset('/content/drive/MyDrive/Colab Notebooks/Datasets/val-qar.jsonl')\n",
        "\n",
        "    # Load model and tokenizer\n",
        "    tokenizer = LlamaTokenizer.from_pretrained('llama3-base')\n",
        "    model = LlamaForSequenceClassification.from_pretrained('llama3-base', num_labels=3)\n",
        "    model.to(device)\n",
        "\n",
        "    # Define training arguments\n",
        "    training_args = TrainingArguments(\n",
        "        output_dir='./results',\n",
        "        num_train_epochs=5000,\n",
        "        per_device_train_batch_size=16,\n",
        "        per_device_eval_batch_size=16,\n",
        "        warmup_steps=500,\n",
        "        weight_decay=0.01,\n",
        "        temperature=0,\n",
        "        logging_dir='./logs',\n",
        "        logging_steps=10,\n",
        "        save_strategy=\"epoch\",  # Save checkpoint at end of each epoch\n",
        "    )\n",
        "\n",
        "    # Define trainer\n",
        "    trainer = Trainer(\n",
        "        model=model,\n",
        "        args=training_args,\n",
        "        train_dataset=train_dataset,\n",
        "        eval_dataset=eval_dataset,\n",
        "    )\n",
        "\n",
        "    # Train the model\n",
        "    trainer.train()\n",
        "\n",
        "    # Evaluate the model\n",
        "    results = trainer.evaluate()\n",
        "    print(results)\n",
        "\n",
        "    # Save the final model\n",
        "    model = LlamaForSequenceClassification.from_pretrained('./final_model').to(device)\n",
        "    tokenizer.save_pretrained('./final_model_tokenizer')"
      ]
    },
    {
      "cell_type": "code",
      "execution_count": 15,
      "metadata": {
        "id": "wPQc9kQiq0nj"
      },
      "outputs": [],
      "source": [
        "def utilize_model(model, tokenizer, prompt_question, ai_text, user_text):\n",
        "    # Example similarity check\n",
        "    prompt = \"Compare these texts based on their relevance to the following question: \" + prompt_question\n",
        "    ai_text = \"The cat sat.\"\n",
        "    user_text = \"A cat was sitting.\"\n",
        "    tokenizer = LlamaTokenizer.from_pretrained('./final_model')\n",
        "    model = LlamaForSequenceClassification.from_pretrained('./final_model_tokenizer')\n",
        "    score, reason = compute_similarity_and_reasoning(model, tokenizer, prompt, ai_text, user_text)\n",
        "    print(f\"Similarity score: {score}\")\n",
        "    print(f\"Reasoning: {reason}\")"
      ]
    },
    {
      "cell_type": "code",
      "execution_count": null,
      "metadata": {
        "id": "TTYRDj8Xq0nj"
      },
      "outputs": [],
      "source": [
        "if __name__ == \"__main__\":\n",
        "    main()"
      ]
    }
  ],
  "metadata": {
    "kernelspec": {
      "display_name": "Python 3",
      "name": "python3"
    },
    "language_info": {
      "codemirror_mode": {
        "name": "ipython",
        "version": 3
      },
      "file_extension": ".py",
      "mimetype": "text/x-python",
      "name": "python",
      "nbconvert_exporter": "python",
      "pygments_lexer": "ipython3",
      "version": "3.11.5"
    },
    "colab": {
      "provenance": [],
      "machine_shape": "hm",
      "gpuType": "A100"
    },
    "accelerator": "GPU"
  },
  "nbformat": 4,
  "nbformat_minor": 0
}